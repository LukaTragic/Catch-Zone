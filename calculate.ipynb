{
 "cells": [
  {
   "cell_type": "code",
   "execution_count": 9,
   "metadata": {},
   "outputs": [],
   "source": [
    "import math"
   ]
  },
  {
   "cell_type": "code",
   "execution_count": 1,
   "metadata": {},
   "outputs": [],
   "source": [
    "def getConstant(rho, a, m):\n",
    "    return (rho * a) / (2 * m)\n",
    "\n",
    "def getTotalSpin(omega_b, phi_s):\n",
    "    return omega_b / math.cos(phi_s)\n",
    "\n",
    "def getSideSpin(omega_b, phi_s):\n",
    "    return math.tan(phi_s) * omega_b\n",
    "\n",
    "def getXVelocity(v_t, theta, phi):\n",
    "    return v_t * math.cos(theta) * math.sin(phi)\n",
    "\n",
    "def getYVelocity(v_t, theta, phi):\n",
    "    return v_t * math.cos(theta) * math.cos(phi)\n",
    "\n",
    "def getZVelocity(v_t, theta):\n",
    "    return v_t * math.sin(theta)\n",
    "\n",
    "\n",
    "\n",
    "\n",
    "def getDragForce(K, omega_b, omega_s, v, v_direction):\n",
    "    cd0 = 0.3008\n",
    "    cdspin = 0.0292\n",
    "    spin = math.sqrt((omega_b**2 + omega_s**2))\n",
    "\n",
    "    cd = cd0 + (cdspin*spin)/1000\n",
    "\n",
    "    dragForce = -K * cd * v * v_direction\n",
    "\n",
    "    return dragForce\n",
    "\n",
    "def getAcceleration_x(K, ):\n",
    "    acc_x = (-K * drag_coeff * v_total * v_x) + (K * lift_coeff * v_total * (((spin_y * v_z) - (spin_z * v_y)) / spin_total))\n",
    "\n",
    "\n",
    "\n",
    "\n",
    "\n",
    "\n",
    "\n",
    "def calculate_accelerate_x():\n",
    "    for i in map(lambda x: x / 100, range(1000)):\n",
    "        acc_x = (-K * drag_coeff * v_total * v_x) + (K * lift_coeff * v_total * (((spin_y * v_z) - (spin_z * v_y)) / spin_total))\n",
    "\n",
    "def calculate_accelerate_y():\n",
    "    for i in map(lambda x: x / 100, range(1000)):\n",
    "        acc_y = (-K * drag_coeff * v_total * v_y) + (K * lift_coeff * v_total * (((spin_z * v_x) - (spin_x * v_z)) / spin_total))\n",
    "\n",
    "def calculate_accelerate_y():\n",
    "    for i in map(lambda x: x / 100, range(1000)):\n",
    "        acc_z = (-K * drag_coeff * v_total * v_z) + (K * lift_coeff * v_total * (((spin_x * v_y) - (spin_y * v_x)) / spin_total))\n",
    "\n"
   ]
  },
  {
   "cell_type": "code",
   "execution_count": null,
   "metadata": {},
   "outputs": [
    {
     "name": "stdout",
     "output_type": "stream",
     "text": [
      "5143.619639124044\n",
      "-4535.564682813216\n",
      "5143.619639124043\n"
     ]
    }
   ],
   "source": [
    "\n",
    "density_air = 1.225 # kg/m**2\n",
    "area = 0.0042 # m^2\n",
    "mass = 0.14529131 # kg\n",
    "\n",
    "backSpin = 2426.0\n",
    "gyroSpin = 0\n",
    "spinAxis = 156.0\n",
    "\n",
    "launchSpeed = 103.7\n",
    "launchAngle = 31.0\n",
    "sprayAngle = -25.395194\n",
    "\n",
    "\n",
    "K = getConstant(density_air, area, mass)\n",
    "\n",
    "velocity_x = getXVelocity(launchSpeed, launchAngle, sprayAngle)\n",
    "\n",
    "velocity_y = getYVelocity(launchSpeed, launchAngle, sprayAngle)\n",
    "\n",
    "velocity_z = getZVelocity(launchSpeed, launchAngle)\n",
    "\n",
    "\n",
    "\n",
    "totalSpin = getTotalSpin(backSpin, spinAxis)\n",
    "\n",
    "sideSpin = getSideSpin(backSpin, spinAxis)\n",
    "\n",
    "\n",
    "\n",
    "\n",
    "dragForce_x = getDragForce(K, backSpin, sideSpin, launchSpeed, velocity_x)\n",
    "\n"
   ]
  }
 ],
 "metadata": {
  "kernelspec": {
   "display_name": "venv",
   "language": "python",
   "name": "python3"
  },
  "language_info": {
   "codemirror_mode": {
    "name": "ipython",
    "version": 3
   },
   "file_extension": ".py",
   "mimetype": "text/x-python",
   "name": "python",
   "nbconvert_exporter": "python",
   "pygments_lexer": "ipython3",
   "version": "3.11.9"
  }
 },
 "nbformat": 4,
 "nbformat_minor": 2
}

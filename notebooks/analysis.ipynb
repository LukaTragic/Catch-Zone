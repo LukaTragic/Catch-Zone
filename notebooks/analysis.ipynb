{
 "cells": [
  {
   "cell_type": "code",
   "execution_count": null,
   "metadata": {},
   "outputs": [],
   "source": [
    "import sys\n",
    "import os\n",
    "import importlib\n",
    "# Add the parent directory to the Python path\n",
    "sys.path.append(os.path.abspath('..'))\n",
    "\n",
    "import IPython #type: ignore\n",
    "import sqlite3\n",
    "import pandas as pd # type: ignore\n",
    "import numpy as np # type: ignore\n",
    "\n",
    "import src\n",
    "importlib.reload(src)\n",
    "from src import *\n",
    "\n",
    "hr = get_team_hits(\"NYY\", False, 'home_run')\n",
    "hits = get_team_hits(\"NYY\", False, None)\n",
    "store(hr, \"2024_NYY\", \"home_runs\")\n",
    "store(hits, \"2024_NYY\", \"hits\")       \n",
    "\n",
    "IPython.display.clear_output()"
   ]
  },
  {
   "cell_type": "code",
   "execution_count": 22,
   "metadata": {},
   "outputs": [],
   "source": [
    "con = sqlite3.connect(\"2024_NYY\")\n",
    "cur = con.cursor()"
   ]
  },
  {
   "cell_type": "code",
   "execution_count": 23,
   "metadata": {},
   "outputs": [],
   "source": [
    "# Inputs into our simulation\n",
    "# omega_t = ['release_spin_rate'] # rpm\n",
    "# v_t = ['launch_speed'] # mph\n",
    "# theta = ['launch_angle'] # deg\n",
    "# phi = ['spray_angle'] # deg\n",
    "# phi_s = ['spin_axis'] # deg\n",
    "\n",
    "variables = {\n",
    "    'release_spin_rate': hr['release_spin_rate'].tolist(),\n",
    "    'launch_speed': hr['launch_speed'].tolist(),\n",
    "    'theta': hr['launch_angle'].tolist(),\n",
    "    'phi': hr['spray_angle'].tolist(),\n",
    "    'phi_s': hr['spin_axis'].tolist()\n",
    "}\n",
    "\n",
    "df = pd.DataFrame(variables, columns=[\n",
    "    'release_spin_rate', 'launch_speed', 'theta', 'phi', 'phi_s'])\n",
    "\n",
    "matrix = df.corr()"
   ]
  },
  {
   "cell_type": "code",
   "execution_count": 25,
   "metadata": {},
   "outputs": [
    {
     "data": {
      "text/plain": [
       "[('FF',),\n",
       " ('CH',),\n",
       " ('CU',),\n",
       " ('SI',),\n",
       " ('ST',),\n",
       " ('SL',),\n",
       " ('EP',),\n",
       " ('FC',),\n",
       " (None,),\n",
       " ('KC',),\n",
       " ('FS',),\n",
       " ('SV',),\n",
       " ('FA',),\n",
       " ('SC',),\n",
       " ('KN',)]"
      ]
     },
     "execution_count": 25,
     "metadata": {},
     "output_type": "execute_result"
    }
   ],
   "source": [
    "cur.execute(\"SELECT DISTINCT pitch_type FROM hits\").fetchall()"
   ]
  },
  {
   "cell_type": "code",
   "execution_count": 24,
   "metadata": {},
   "outputs": [],
   "source": [
    "from statsmodels.stats.outliers_influence import variance_inflation_factor # type: ignore\n",
    "\n"
   ]
  }
 ],
 "metadata": {
  "kernelspec": {
   "display_name": "venv",
   "language": "python",
   "name": "python3"
  },
  "language_info": {
   "codemirror_mode": {
    "name": "ipython",
    "version": 3
   },
   "file_extension": ".py",
   "mimetype": "text/x-python",
   "name": "python",
   "nbconvert_exporter": "python",
   "pygments_lexer": "ipython3",
   "version": "3.11.9"
  }
 },
 "nbformat": 4,
 "nbformat_minor": 2
}
